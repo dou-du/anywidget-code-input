{
	"cells": [
		{
			"cell_type": "code",
			"execution_count": null,
			"metadata": {},
			"outputs": [],
			"source": [
				"from anywidget_code_input import Counter\n",
				"Counter()"
			]
		}
	],
	"metadata": {
		"language_info": {
			"name": "python"
		}
	},
	"nbformat": 4,
	"nbformat_minor": 2
}